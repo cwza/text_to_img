{
 "cells": [
  {
   "cell_type": "code",
   "execution_count": null,
   "metadata": {},
   "outputs": [],
   "source": [
    "# export\n",
    "from typing import List\n",
    "from fastai2.basics import *\n",
    "from fastai2.text.all import *\n",
    "from fastai2.vision.all import *\n",
    "from pycocotools.coco import COCO"
   ]
  },
  {
   "cell_type": "code",
   "execution_count": null,
   "metadata": {},
   "outputs": [],
   "source": [
    "# default_exp data_coco"
   ]
  },
  {
   "cell_type": "markdown",
   "metadata": {},
   "source": [
    "# Data Coco\n",
    "> "
   ]
  },
  {
   "cell_type": "code",
   "execution_count": null,
   "metadata": {},
   "outputs": [],
   "source": [
    "# exporti\n",
    "train_img_path = Path('/root/data/coco/train2014')\n",
    "train_anno_path = Path('/root/data/coco/annotations/captions_train2014.json')\n",
    "val_img_path = Path('/root/data/coco/val2014')\n",
    "val_anno_path = Path('/root/data/coco/annotations/captions_val2014.json')\n",
    "tiny_img_path = Path('./tiny_data/tiny_imgs')\n",
    "tiny_anno_path = Path('./tiny_data/captions_tiny.json')"
   ]
  },
  {
   "cell_type": "code",
   "execution_count": null,
   "metadata": {},
   "outputs": [
    {
     "name": "stdout",
     "output_type": "stream",
     "text": [
      "loading annotations into memory...\n",
      "Done (t=0.00s)\n",
      "creating index...\n",
      "index created!\n"
     ]
    }
   ],
   "source": [
    "coco = COCO(tiny_anno_path)"
   ]
  },
  {
   "cell_type": "markdown",
   "metadata": {},
   "source": [
    "## LM Datasets"
   ]
  },
  {
   "cell_type": "code",
   "execution_count": null,
   "metadata": {},
   "outputs": [],
   "source": [
    "# exporti\n",
    "def get_captions(coco):\n",
    "    anns = coco.dataset['annotations']\n",
    "    captions = [ann['caption'] for ann in anns]\n",
    "    return captions"
   ]
  },
  {
   "cell_type": "code",
   "execution_count": null,
   "metadata": {},
   "outputs": [
    {
     "data": {
      "text/plain": [
       "['A small closed toilet in a cramped space.',\n",
       " 'A tan toilet and sink combination in a small room.',\n",
       " 'This is an advanced toilet with a sink and control panel.']"
      ]
     },
     "execution_count": null,
     "metadata": {},
     "output_type": "execute_result"
    }
   ],
   "source": [
    "captions = get_captions(coco)\n",
    "captions[:3]"
   ]
  },
  {
   "cell_type": "code",
   "execution_count": null,
   "metadata": {},
   "outputs": [],
   "source": [
    "# exporti\n",
    "def get_lm_dsets(captions, pct=1, valid_pct=0.2):\n",
    "    captions = captions[:int(len(captions)*pct)]\n",
    "    df = pd.DataFrame({'caption': captions})\n",
    "    splits = RandomSplitter(seed=42, valid_pct=valid_pct)(df)\n",
    "    tfms = [attrgetter('text'), Tokenizer.from_df('caption'), Numericalize()]\n",
    "    dsets = Datasets(df, [tfms], splits=splits, dl_type=LMDataLoader)\n",
    "    return dsets"
   ]
  },
  {
   "cell_type": "code",
   "execution_count": null,
   "metadata": {},
   "outputs": [
    {
     "data": {
      "text/html": [],
      "text/plain": [
       "<IPython.core.display.HTML object>"
      ]
     },
     "metadata": {},
     "output_type": "display_data"
    },
    {
     "data": {
      "text/plain": [
       "(TensorText([  2,   9,  30, 179,  19,  13,   9,   0, 230,  10]),)"
      ]
     },
     "execution_count": null,
     "metadata": {},
     "output_type": "execute_result"
    }
   ],
   "source": [
    "lm_dsets = get_lm_dsets(captions)\n",
    "lm_dsets[0]"
   ]
  },
  {
   "cell_type": "code",
   "execution_count": null,
   "metadata": {},
   "outputs": [],
   "source": [
    "# export\n",
    "def get_tiny_lm_dsets(pct=1, valid_pct=0.2):\n",
    "    coco = COCO(tiny_anno_path)\n",
    "    captions = get_captions(coco)\n",
    "    lm_dsets = get_lm_dsets(captions, pct, valid_pct)\n",
    "    return lm_dsets\n",
    "\n",
    "def get_small_lm_dsets(pct=1, valid_pct=0.2):\n",
    "    coco = COCO(val_anno_path)\n",
    "    captions = get_captions(coco)\n",
    "    lm_dsets = get_lm_dsets(captions, pct, valid_pct)\n",
    "    return lm_dsets"
   ]
  },
  {
   "cell_type": "code",
   "execution_count": null,
   "metadata": {},
   "outputs": [
    {
     "name": "stdout",
     "output_type": "stream",
     "text": [
      "loading annotations into memory...\n",
      "Done (t=0.00s)\n",
      "creating index...\n",
      "index created!\n"
     ]
    },
    {
     "data": {
      "text/html": [],
      "text/plain": [
       "<IPython.core.display.HTML object>"
      ]
     },
     "metadata": {},
     "output_type": "display_data"
    },
    {
     "data": {
      "text/html": [
       "<table border=\"1\" class=\"dataframe\">\n",
       "  <thead>\n",
       "    <tr style=\"text-align: right;\">\n",
       "      <th></th>\n",
       "      <th>text</th>\n",
       "      <th>text_</th>\n",
       "    </tr>\n",
       "  </thead>\n",
       "  <tbody>\n",
       "    <tr>\n",
       "      <th>0</th>\n",
       "      <td>xxbos horses eating xxunk in a field with xxunk in the background xxbos a room under xxunk with an xxunk shower and xxunk for the sink . xxbos a row of parked cars sitting next to parking meters . xxbos xxmaj the bathroom is clean and ready to be xxunk . xxbos a woman cooking in a kitchen with xxunk counters . xxbos xxmaj people are xxunk on the street by a</td>\n",
       "      <td>horses eating xxunk in a field with xxunk in the background xxbos a room under xxunk with an xxunk shower and xxunk for the sink . xxbos a row of parked cars sitting next to parking meters . xxbos xxmaj the bathroom is clean and ready to be xxunk . xxbos a woman cooking in a kitchen with xxunk counters . xxbos xxmaj people are xxunk on the street by a homeless</td>\n",
       "    </tr>\n",
       "    <tr>\n",
       "      <th>1</th>\n",
       "      <td>to a sink xxbos a young kid with head xxunk on using a computer xxbos a man is sitting on the sidewalk while a police xxunk is doing xxunk behind xxunk . xxbos a toilet sitting in a bathroom next to a sink . xxbos a kitchen has all stainless steel appliances and counters . xxbos a young boy xxunk holding an umbrella xxunk the xxunk of a xxunk xxbos a white</td>\n",
       "      <td>a sink xxbos a young kid with head xxunk on using a computer xxbos a man is sitting on the sidewalk while a police xxunk is doing xxunk behind xxunk . xxbos a toilet sitting in a bathroom next to a sink . xxbos a kitchen has all stainless steel appliances and counters . xxbos a young boy xxunk holding an umbrella xxunk the xxunk of a xxunk xxbos a white toilet</td>\n",
       "    </tr>\n",
       "  </tbody>\n",
       "</table>"
      ],
      "text/plain": [
       "<IPython.core.display.HTML object>"
      ]
     },
     "metadata": {},
     "output_type": "display_data"
    }
   ],
   "source": [
    "lm_dsets = get_tiny_lm_dsets()\n",
    "lm_dls = lm_dsets.dataloaders(bs=16, seq_len=72)\n",
    "lm_dls.show_batch(max_n=2)"
   ]
  },
  {
   "cell_type": "markdown",
   "metadata": {},
   "source": [
    "## Generator Datasets"
   ]
  },
  {
   "cell_type": "code",
   "execution_count": null,
   "metadata": {},
   "outputs": [],
   "source": [
    "# exporti\n",
    "def get_captions_by_imgid(coco, img_id: int):\n",
    "    return [ann['caption'] for ann in coco.imgToAnns[img_id]]\n",
    "def get_imgfilepath_by_imgid(coco, img_id: int, img_path: Path):\n",
    "    return img_path/coco.imgs[img_id]['file_name']\n",
    "def imgpath_to_captions(coco, img_path: Path):\n",
    "    img_ids = coco.getImgIds()\n",
    "    return [ \n",
    "        [get_imgfilepath_by_imgid(coco, img_id, img_path), get_captions_by_imgid(coco, img_id)]\n",
    "         for img_id in img_ids\n",
    "    ]"
   ]
  },
  {
   "cell_type": "code",
   "execution_count": null,
   "metadata": {},
   "outputs": [
    {
     "data": {
      "text/plain": [
       "[[Path('tiny_data/tiny_imgs/COCO_val2014_000000391895.jpg'),\n",
       "  ['A man with a red helmet on a small moped on a dirt road. ',\n",
       "   'Man riding a motor bike on a dirt road on the countryside.',\n",
       "   'A man riding on the back of a motorcycle.',\n",
       "   'A dirt path with a young person on a motor bike rests to the foreground of a verdant area with a bridge and a background of cloud-wreathed mountains. ',\n",
       "   'A man in a red shirt and a red hat is on a motorcycle on a hill side.']],\n",
       " [Path('tiny_data/tiny_imgs/COCO_val2014_000000522418.jpg'),\n",
       "  ['A woman wearing a net on her head cutting a cake. ',\n",
       "   'A woman cutting a large white sheet cake.',\n",
       "   'A woman wearing a hair net cutting a large sheet cake.',\n",
       "   'there is a woman that is cutting a white cake',\n",
       "   \"A woman marking a cake with the back of a chef's knife. \"]]]"
      ]
     },
     "execution_count": null,
     "metadata": {},
     "output_type": "execute_result"
    }
   ],
   "source": [
    "imgpath_to_captions(coco, tiny_img_path)[:2]"
   ]
  },
  {
   "cell_type": "code",
   "execution_count": null,
   "metadata": {},
   "outputs": [],
   "source": [
    "# export\n",
    "def get_tiny_gen_dsets(vocab: List, pct=1, valid_pct=0.2):\n",
    "    coco = COCO(tiny_anno_path)\n",
    "    items = imgpath_to_captions(coco, tiny_img_path)\n",
    "    items = items[:int(len(items)*pct)]\n",
    "    splits = RandomSplitter(seed=42, valid_pct=valid_pct)(items)\n",
    "    tfms = [\n",
    "        [lambda item: item[1], lambda captions: random.choice(captions), Tokenizer(SpacyTokenizer()), Numericalize(vocab=vocab)], \n",
    "        [lambda item: item[0], PILImage.create]\n",
    "    ]\n",
    "    dsets = Datasets(items, tfms=tfms, splits=splits)\n",
    "    return dsets\n",
    "\n",
    "def get_small_gen_dsets(vocab: List, pct=1, valid_pct=0.2):\n",
    "    coco = COCO(val_anno_path)\n",
    "    items = imgpath_to_captions(coco, val_img_path)\n",
    "    items = items[:int(len(items)*pct)]\n",
    "    splits = RandomSplitter(seed=42, valid_pct=valid_pct)(items)\n",
    "    tfms = [\n",
    "        [lambda item: item[1], lambda captions: random.choice(captions), Tokenizer(SpacyTokenizer()), Numericalize(vocab=vocab)], \n",
    "        [lambda item: item[0], PILImage.create]\n",
    "    ]\n",
    "    dsets = Datasets(items, tfms=tfms, splits=splits)\n",
    "    return dsets"
   ]
  },
  {
   "cell_type": "code",
   "execution_count": null,
   "metadata": {},
   "outputs": [
    {
     "name": "stdout",
     "output_type": "stream",
     "text": [
      "loading annotations into memory...\n",
      "Done (t=0.01s)\n",
      "creating index...\n",
      "index created!\n"
     ]
    },
    {
     "data": {
      "text/plain": [
       "(100,\n",
       " (TensorText([  2,   9,  23,  37,  17,  15, 101,  14,   9,  66,  10]),\n",
       "  PILImage mode=RGB size=640x360))"
      ]
     },
     "execution_count": null,
     "metadata": {},
     "output_type": "execute_result"
    }
   ],
   "source": [
    "gen_dsets = get_tiny_gen_dsets(lm_dsets.vocab)\n",
    "len(gen_dsets), gen_dsets[0]"
   ]
  },
  {
   "cell_type": "code",
   "execution_count": null,
   "metadata": {},
   "outputs": [],
   "source": [
    "# export\n",
    "def get_gen_dls(dsets, bs, size):\n",
    "    pad_idx = dsets.o2i['xxpad']\n",
    "    dls = dsets.dataloaders(\n",
    "        bs=bs, \n",
    "        before_batch=[partial(pad_input, pad_idx=pad_idx)],\n",
    "        after_item=[ToTensor, Resize(size)],\n",
    "        after_batch=[IntToFloatTensor(), Normalize.from_stats(torch.tensor([0.5,0.5,0.5]), torch.tensor([0.5,0.5,0.5]))]\n",
    "    )\n",
    "    return dls"
   ]
  },
  {
   "cell_type": "code",
   "execution_count": null,
   "metadata": {},
   "outputs": [
    {
     "name": "stdout",
     "output_type": "stream",
     "text": [
      "torch.Size([16, 19]) torch.int64\n",
      "torch.Size([16, 3, 64, 64]) torch.float32\n"
     ]
    }
   ],
   "source": [
    "gen_dls = get_gen_dls(gen_dsets, 16, 64)\n",
    "for x, y in gen_dls.train:\n",
    "    print(x.shape, x.dtype)\n",
    "    print(y.shape, y.dtype)\n",
    "    break"
   ]
  },
  {
   "cell_type": "code",
   "execution_count": null,
   "metadata": {},
   "outputs": [],
   "source": [
    "# exporti\n",
    "def displayable_caption(caption):\n",
    "    new_cap = []\n",
    "    for i, w in enumerate(caption.split()):\n",
    "        i+=1\n",
    "        if i>11: break\n",
    "        new_cap.append(w)\n",
    "        if i%6==0: new_cap.append('\\n') \n",
    "    return ' '.join(new_cap)"
   ]
  },
  {
   "cell_type": "code",
   "execution_count": null,
   "metadata": {},
   "outputs": [],
   "source": [
    "# export\n",
    "@typedispatch\n",
    "def show_batch(x: TensorText, y: TensorImage, samples, ctxs=None, max_n=10, **kwargs):\n",
    "    n = min(len(samples), max_n)\n",
    "    ncols = 4\n",
    "    nrows = math.ceil(n/ncols)\n",
    "    figsize = (ncols*4, nrows*4) \n",
    "    if ctxs is None: \n",
    "        _, ax = plt.subplots(nrows=nrows, ncols=ncols, figsize=figsize)\n",
    "        ctxs = ax.flatten()\n",
    "    for i in range(n):\n",
    "        caption, img = samples[i]\n",
    "        img.show(ctxs[i])\n",
    "        ctxs[i].text(0, -1.5, displayable_caption(caption))"
   ]
  },
  {
   "cell_type": "code",
   "execution_count": null,
   "metadata": {},
   "outputs": [
    {
     "data": {
      "image/png": "[encoded data removed]",
      "text/plain": [
       "<Figure size 1152x288 with 4 Axes>"
      ]
     },
     "metadata": {},
     "output_type": "display_data"
    }
   ],
   "source": [
    "gen_dls.show_batch(max_n=4)"
   ]
  },
  {
   "cell_type": "markdown",
   "metadata": {},
   "source": [
    "## export -"
   ]
  },
  {
   "cell_type": "code",
   "execution_count": null,
   "metadata": {},
   "outputs": [
    {
     "name": "stdout",
     "output_type": "stream",
     "text": [
      "Converted 01_eda[script].ipynb.\n",
      "Converted 01_gen_coco_tiny_data[script].ipynb.\n",
      "Converted 02_data_coco.ipynb.\n",
      "Converted 03_model.ipynb.\n",
      "Converted 04_loss.ipynb.\n",
      "Converted 05_leaner.ipynb.\n",
      "Converted 90a_fulltest_train_lm.ipynb.\n",
      "Converted 90b_fulltest_train_generator.ipynb.\n",
      "Converted 95a_train_lm[script].ipynb.\n",
      "Converted 95b_train_generator[script].ipynb.\n",
      "Converted 95c_train_gan.ipynb.\n",
      "Converted index.ipynb.\n"
     ]
    }
   ],
   "source": [
    "# hide\n",
    "from nbdev.export import notebook2script\n",
    "notebook2script()"
   ]
  },
  {
   "cell_type": "code",
   "execution_count": null,
   "metadata": {},
   "outputs": [],
   "source": []
  }
 ],
 "metadata": {
  "kernelspec": {
   "display_name": "Python 3",
   "language": "python",
   "name": "python3"
  }
 },
 "nbformat": 4,
 "nbformat_minor": 4
}
