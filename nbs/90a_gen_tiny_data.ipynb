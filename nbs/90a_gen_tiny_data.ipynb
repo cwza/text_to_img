{
 "cells": [
  {
   "cell_type": "code",
   "execution_count": null,
   "metadata": {},
   "outputs": [],
   "source": [
    "import json\n",
    "from shutil import copyfile\n",
    "from pathlib import Path\n",
    "from pycocotools.coco import COCO"
   ]
  },
  {
   "cell_type": "code",
   "execution_count": null,
   "metadata": {},
   "outputs": [],
   "source": [
    "# all_skip"
   ]
  },
  {
   "cell_type": "markdown",
   "metadata": {},
   "source": [
    "# Script to generate tiny test data set for quick testing\n",
    ">"
   ]
  },
  {
   "cell_type": "code",
   "execution_count": null,
   "metadata": {},
   "outputs": [
    {
     "name": "stdout",
     "output_type": "stream",
     "text": [
      "loading annotations into memory...\n",
      "Done (t=0.31s)\n",
      "creating index...\n",
      "index created!\n"
     ]
    }
   ],
   "source": [
    "img_path = Path('/root/data/coco/val2014')\n",
    "anno_path = Path('/root/data/coco/annotations/captions_val2014.json')\n",
    "coco =COCO(anno_path)\n",
    "coco_ds = coco.dataset"
   ]
  },
  {
   "cell_type": "code",
   "execution_count": null,
   "metadata": {},
   "outputs": [],
   "source": [
    "num_test_imgs = 100"
   ]
  },
  {
   "cell_type": "markdown",
   "metadata": {},
   "source": [
    "## Data Format"
   ]
  },
  {
   "cell_type": "markdown",
   "metadata": {},
   "source": [
    "``` json\n",
    "{\n",
    "    \"info\": {...},\n",
    "    \"licenses\": [...],\n",
    "    \"images\": [...],\n",
    "    \"annotations\": [...],\n",
    "    \"categories\": [...], <-- Not in Captions annotations\n",
    "    \"segment_info\": [...] <-- Only in Panoptic annotations\n",
    "}\n",
    "```"
   ]
  },
  {
   "cell_type": "code",
   "execution_count": null,
   "metadata": {},
   "outputs": [
    {
     "data": {
      "text/plain": [
       "{'contributor': 'COCO Consortium',\n",
       " 'date_created': '2017/09/01',\n",
       " 'description': 'COCO 2014 Dataset',\n",
       " 'url': 'http://cocodataset.org',\n",
       " 'version': '1.0',\n",
       " 'year': 2014}"
      ]
     },
     "execution_count": null,
     "metadata": {},
     "output_type": "execute_result"
    }
   ],
   "source": [
    "coco_ds['info']"
   ]
  },
  {
   "cell_type": "code",
   "execution_count": null,
   "metadata": {},
   "outputs": [
    {
     "data": {
      "text/plain": [
       "[{'id': 1,\n",
       "  'name': 'Attribution-NonCommercial-ShareAlike License',\n",
       "  'url': 'http://creativecommons.org/licenses/by-nc-sa/2.0/'},\n",
       " {'id': 2,\n",
       "  'name': 'Attribution-NonCommercial License',\n",
       "  'url': 'http://creativecommons.org/licenses/by-nc/2.0/'},\n",
       " {'id': 3,\n",
       "  'name': 'Attribution-NonCommercial-NoDerivs License',\n",
       "  'url': 'http://creativecommons.org/licenses/by-nc-nd/2.0/'}]"
      ]
     },
     "execution_count": null,
     "metadata": {},
     "output_type": "execute_result"
    }
   ],
   "source": [
    "coco_ds['licenses'][:3]"
   ]
  },
  {
   "cell_type": "code",
   "execution_count": null,
   "metadata": {},
   "outputs": [
    {
     "data": {
      "text/plain": [
       "[{'coco_url': 'http://images.cocodataset.org/val2014/COCO_val2014_000000391895.jpg',\n",
       "  'date_captured': '2013-11-14 11:18:45',\n",
       "  'file_name': 'COCO_val2014_000000391895.jpg',\n",
       "  'flickr_url': 'http://farm9.staticflickr.com/8186/8119368305_4e622c8349_z.jpg',\n",
       "  'height': 360,\n",
       "  'id': 391895,\n",
       "  'license': 3,\n",
       "  'width': 640},\n",
       " {'coco_url': 'http://images.cocodataset.org/val2014/COCO_val2014_000000522418.jpg',\n",
       "  'date_captured': '2013-11-14 11:38:44',\n",
       "  'file_name': 'COCO_val2014_000000522418.jpg',\n",
       "  'flickr_url': 'http://farm1.staticflickr.com/1/127244861_ab0c0381e7_z.jpg',\n",
       "  'height': 480,\n",
       "  'id': 522418,\n",
       "  'license': 4,\n",
       "  'width': 640},\n",
       " {'coco_url': 'http://images.cocodataset.org/val2014/COCO_val2014_000000184613.jpg',\n",
       "  'date_captured': '2013-11-14 12:36:29',\n",
       "  'file_name': 'COCO_val2014_000000184613.jpg',\n",
       "  'flickr_url': 'http://farm3.staticflickr.com/2169/2118578392_1193aa04a0_z.jpg',\n",
       "  'height': 336,\n",
       "  'id': 184613,\n",
       "  'license': 3,\n",
       "  'width': 500}]"
      ]
     },
     "execution_count": null,
     "metadata": {},
     "output_type": "execute_result"
    }
   ],
   "source": [
    "coco_ds['images'][:3]"
   ]
  },
  {
   "cell_type": "code",
   "execution_count": null,
   "metadata": {},
   "outputs": [
    {
     "data": {
      "text/plain": [
       "[{'caption': 'A bicycle replica with a clock as the front wheel.',\n",
       "  'id': 37,\n",
       "  'image_id': 203564},\n",
       " {'caption': 'A black Honda motorcycle parked in front of a garage.',\n",
       "  'id': 38,\n",
       "  'image_id': 179765},\n",
       " {'caption': 'A room with blue walls and a white sink and door.',\n",
       "  'id': 49,\n",
       "  'image_id': 322141}]"
      ]
     },
     "execution_count": null,
     "metadata": {},
     "output_type": "execute_result"
    }
   ],
   "source": [
    "coco_ds['annotations'][:3]"
   ]
  },
  {
   "cell_type": "markdown",
   "metadata": {},
   "source": [
    "## Build Annotations"
   ]
  },
  {
   "cell_type": "code",
   "execution_count": null,
   "metadata": {},
   "outputs": [],
   "source": [
    "num_images = 100"
   ]
  },
  {
   "cell_type": "code",
   "execution_count": null,
   "metadata": {},
   "outputs": [],
   "source": [
    "test_coco = {\n",
    "    'info': coco_ds['info'], \n",
    "    'licenses': coco_ds['licenses'],\n",
    "    'images': coco_ds['images'][:num_test_imgs],\n",
    "}"
   ]
  },
  {
   "cell_type": "code",
   "execution_count": null,
   "metadata": {},
   "outputs": [],
   "source": [
    "img_ids = [img_obj['id'] for img_obj in test_coco['images']]"
   ]
  },
  {
   "cell_type": "code",
   "execution_count": null,
   "metadata": {},
   "outputs": [
    {
     "data": {
      "text/plain": [
       "[391895, 522418, 184613, 318219, 554625, 397133, 574769, 60623, 309022, 5802]"
      ]
     },
     "execution_count": null,
     "metadata": {},
     "output_type": "execute_result"
    }
   ],
   "source": [
    "img_ids[:10]"
   ]
  },
  {
   "cell_type": "code",
   "execution_count": null,
   "metadata": {},
   "outputs": [],
   "source": [
    "annotations = [anno for anno in coco_ds['annotations'] if anno['image_id'] in img_ids]"
   ]
  },
  {
   "cell_type": "code",
   "execution_count": null,
   "metadata": {},
   "outputs": [
    {
     "data": {
      "text/plain": [
       "[{'caption': 'A small closed toilet in a cramped space.',\n",
       "  'id': 441,\n",
       "  'image_id': 331352},\n",
       " {'caption': 'A tan toilet and sink combination in a small room.',\n",
       "  'id': 540,\n",
       "  'image_id': 331352},\n",
       " {'caption': 'This is an advanced toilet with a sink and control panel.',\n",
       "  'id': 981,\n",
       "  'image_id': 331352}]"
      ]
     },
     "execution_count": null,
     "metadata": {},
     "output_type": "execute_result"
    }
   ],
   "source": [
    "annotations[:3]"
   ]
  },
  {
   "cell_type": "code",
   "execution_count": null,
   "metadata": {},
   "outputs": [],
   "source": [
    "test_coco['annotations'] = annotations"
   ]
  },
  {
   "cell_type": "code",
   "execution_count": null,
   "metadata": {},
   "outputs": [
    {
     "data": {
      "text/plain": [
       "83385"
      ]
     },
     "execution_count": null,
     "metadata": {},
     "output_type": "execute_result"
    }
   ],
   "source": [
    "# save to\n",
    "annot_out_path = Path('./tiny_data/captions_tiny.json')\n",
    "annot_out_path.write_text(json.dumps(test_coco))"
   ]
  },
  {
   "cell_type": "markdown",
   "metadata": {},
   "source": [
    "## Build images"
   ]
  },
  {
   "cell_type": "code",
   "execution_count": null,
   "metadata": {},
   "outputs": [],
   "source": [
    "img_out_path = Path('./tiny_data/tiny_imgs')\n",
    "img_files = [(img_path/img_obj['file_name'], img_out_path/img_obj['file_name']) for img_obj in test_coco['images']]"
   ]
  },
  {
   "cell_type": "code",
   "execution_count": null,
   "metadata": {},
   "outputs": [
    {
     "data": {
      "text/plain": [
       "(100,\n",
       " [(PosixPath('/root/data/coco/val2014/COCO_val2014_000000391895.jpg'),\n",
       "   PosixPath('test_data/test_imgs/COCO_val2014_000000391895.jpg')),\n",
       "  (PosixPath('/root/data/coco/val2014/COCO_val2014_000000522418.jpg'),\n",
       "   PosixPath('test_data/test_imgs/COCO_val2014_000000522418.jpg')),\n",
       "  (PosixPath('/root/data/coco/val2014/COCO_val2014_000000184613.jpg'),\n",
       "   PosixPath('test_data/test_imgs/COCO_val2014_000000184613.jpg'))])"
      ]
     },
     "execution_count": null,
     "metadata": {},
     "output_type": "execute_result"
    }
   ],
   "source": [
    "len(img_files), img_files[:3]"
   ]
  },
  {
   "cell_type": "code",
   "execution_count": null,
   "metadata": {},
   "outputs": [],
   "source": [
    "# save\n",
    "img_out_path.mkdir(exist_ok=True)\n",
    "for src, dest in img_files:\n",
    "    copyfile(src, dest)"
   ]
  },
  {
   "cell_type": "code",
   "execution_count": null,
   "metadata": {},
   "outputs": [],
   "source": []
  }
 ],
 "metadata": {
  "kernelspec": {
   "display_name": "Python 3",
   "language": "python",
   "name": "python3"
  }
 },
 "nbformat": 4,
 "nbformat_minor": 4
}
