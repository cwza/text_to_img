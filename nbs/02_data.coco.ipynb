{
 "cells": [
  {
   "cell_type": "code",
   "execution_count": null,
   "metadata": {},
   "outputs": [],
   "source": [
    "# export\n",
    "from fastai2.basics import *\n",
    "from fastai2.text.all import *\n",
    "from pycocotools.coco import COCO"
   ]
  },
  {
   "cell_type": "code",
   "execution_count": null,
   "metadata": {},
   "outputs": [],
   "source": [
    "# default_exp data.coco"
   ]
  },
  {
   "cell_type": "markdown",
   "metadata": {},
   "source": [
    "# Data Coco\n",
    ">"
   ]
  },
  {
   "cell_type": "code",
   "execution_count": null,
   "metadata": {},
   "outputs": [],
   "source": [
    "# export\n",
    "_train_img_path = '/root/data/coco/train2014'\n",
    "_train_anno_path = '/root/data/coco/annotations/captions_train2014.json'\n",
    "_val_img_path = '/root/data/coco/val2014'\n",
    "_val_anno_path = '/root/data/coco/annotations/captions_val2014.json'\n",
    "_tiny_img_path = './tiny_data/tiny_imgs'\n",
    "_tiny_anno_path = './tiny_data/captions_tiny.json'"
   ]
  },
  {
   "cell_type": "code",
   "execution_count": null,
   "metadata": {},
   "outputs": [
    {
     "name": "stdout",
     "output_type": "stream",
     "text": [
      "loading annotations into memory...\n",
      "Done (t=0.00s)\n",
      "creating index...\n",
      "index created!\n"
     ]
    }
   ],
   "source": [
    "coco = COCO(_tiny_anno_path)"
   ]
  },
  {
   "cell_type": "markdown",
   "metadata": {},
   "source": [
    "## LM Datasets"
   ]
  },
  {
   "cell_type": "code",
   "execution_count": null,
   "metadata": {},
   "outputs": [],
   "source": [
    "# export\n",
    "def _get_captions(coco):\n",
    "    anns = coco.dataset['annotations']\n",
    "    captions = [ann['caption'] for ann in anns]\n",
    "    return captions"
   ]
  },
  {
   "cell_type": "code",
   "execution_count": null,
   "metadata": {},
   "outputs": [
    {
     "data": {
      "text/plain": [
       "['A small closed toilet in a cramped space.',\n",
       " 'A tan toilet and sink combination in a small room.',\n",
       " 'This is an advanced toilet with a sink and control panel.']"
      ]
     },
     "execution_count": null,
     "metadata": {},
     "output_type": "execute_result"
    }
   ],
   "source": [
    "captions = _get_captions(coco)\n",
    "captions[:3]"
   ]
  },
  {
   "cell_type": "code",
   "execution_count": null,
   "metadata": {},
   "outputs": [],
   "source": [
    "# export\n",
    "def _get_lm_dsets(captions, pct=1, valid_pct=0.2):\n",
    "    captions = captions[:int(len(captions)*pct)]\n",
    "    df = pd.DataFrame({'caption': captions})\n",
    "    splits = RandomSplitter(seed=42, valid_pct=valid_pct)(df)\n",
    "    tfms = [attrgetter('text'), Tokenizer.from_df('caption'), Numericalize()]\n",
    "    dsets = Datasets(df, [tfms], splits=splits, dl_type=LMDataLoader)\n",
    "    return dsets"
   ]
  },
  {
   "cell_type": "code",
   "execution_count": null,
   "metadata": {},
   "outputs": [
    {
     "data": {
      "text/html": [],
      "text/plain": [
       "<IPython.core.display.HTML object>"
      ]
     },
     "metadata": {},
     "output_type": "display_data"
    },
    {
     "data": {
      "text/plain": [
       "(TensorText([  2,   9,  30, 179,  19,  13,   9,   0, 230,  10]),)"
      ]
     },
     "execution_count": null,
     "metadata": {},
     "output_type": "execute_result"
    }
   ],
   "source": [
    "lm_dsets = _get_lm_dsets(captions)\n",
    "lm_dsets[0]"
   ]
  },
  {
   "cell_type": "code",
   "execution_count": null,
   "metadata": {},
   "outputs": [],
   "source": [
    "# export\n",
    "def get_tiny_lm_dsets(pct=1, valid_pct=0.2):\n",
    "    coco = COCO(_tiny_anno_path)\n",
    "    captions = _get_captions(coco)\n",
    "    lm_dsets = _get_lm_dsets(captions, pct, valid_pct)\n",
    "    return lm_dsets\n",
    "# export\n",
    "def get_small_lm_dsets(pct=1, valid_pct=0.2):\n",
    "    coco = COCO(_val_anno_path)\n",
    "    captions = _get_captions(coco)\n",
    "    lm_dsets = _get_lm_dsets(captions, pct, valid_pct)\n",
    "    return lm_dsets"
   ]
  },
  {
   "cell_type": "code",
   "execution_count": null,
   "metadata": {},
   "outputs": [
    {
     "name": "stdout",
     "output_type": "stream",
     "text": [
      "loading annotations into memory...\n",
      "Done (t=0.01s)\n",
      "creating index...\n",
      "index created!\n"
     ]
    },
    {
     "data": {
      "text/html": [],
      "text/plain": [
       "<IPython.core.display.HTML object>"
      ]
     },
     "metadata": {},
     "output_type": "display_data"
    },
    {
     "data": {
      "text/html": [
       "<table border=\"1\" class=\"dataframe\">\n",
       "  <thead>\n",
       "    <tr style=\"text-align: right;\">\n",
       "      <th></th>\n",
       "      <th>text</th>\n",
       "      <th>text_</th>\n",
       "    </tr>\n",
       "  </thead>\n",
       "  <tbody>\n",
       "    <tr>\n",
       "      <th>0</th>\n",
       "      <td>xxbos a kitchen that has a bowl of xxunk on the table . xxbos a bathroom is shown with a shower and a toilet . xxbos a cat xxunk in a xxunk xxunk of a car . xxbos xxmaj wooden spoons xxunk out xxunk a kitchen table . xxbos a young woman standing in a kitchen xxunk a plate of vegetables . xxbos a woman eating xxunk vegetables from a bowl .</td>\n",
       "      <td>a kitchen that has a bowl of xxunk on the table . xxbos a bathroom is shown with a shower and a toilet . xxbos a cat xxunk in a xxunk xxunk of a car . xxbos xxmaj wooden spoons xxunk out xxunk a kitchen table . xxbos a young woman standing in a kitchen xxunk a plate of vegetables . xxbos a woman eating xxunk vegetables from a bowl . xxbos</td>\n",
       "    </tr>\n",
       "    <tr>\n",
       "      <th>1</th>\n",
       "      <td>xxunk xxunk . xxbos a boy holding an umbrella while standing next to xxunk . xxbos a table xxunk by xxunk and filled with cooking utensils . xxbos a white toilet next to a walk in shower and a sink . xxbos a white bathroom with white fixtures and tile floor xxbos xxmaj girl in a xxunk top holding a xxunk in her back xxunk xxbos xxmaj woman eating an xxunk of</td>\n",
       "      <td>xxunk . xxbos a boy holding an umbrella while standing next to xxunk . xxbos a table xxunk by xxunk and filled with cooking utensils . xxbos a white toilet next to a walk in shower and a sink . xxbos a white bathroom with white fixtures and tile floor xxbos xxmaj girl in a xxunk top holding a xxunk in her back xxunk xxbos xxmaj woman eating an xxunk of xxunk</td>\n",
       "    </tr>\n",
       "  </tbody>\n",
       "</table>"
      ],
      "text/plain": [
       "<IPython.core.display.HTML object>"
      ]
     },
     "metadata": {},
     "output_type": "display_data"
    }
   ],
   "source": [
    "lm_dsets = get_tiny_lm_dsets()\n",
    "lm_dls = lm_dsets.dataloaders(bs=16, seq_len=72)\n",
    "lm_dls.show_batch(max_n=2)"
   ]
  },
  {
   "cell_type": "code",
   "execution_count": null,
   "metadata": {},
   "outputs": [
    {
     "name": "stdout",
     "output_type": "stream",
     "text": [
      "loading annotations into memory...\n",
      "Done (t=0.31s)\n",
      "creating index...\n",
      "index created!\n"
     ]
    },
    {
     "data": {
      "text/html": [],
      "text/plain": [
       "<IPython.core.display.HTML object>"
      ]
     },
     "metadata": {},
     "output_type": "display_data"
    },
    {
     "data": {
      "text/html": [
       "<table border=\"1\" class=\"dataframe\">\n",
       "  <thead>\n",
       "    <tr style=\"text-align: right;\">\n",
       "      <th></th>\n",
       "      <th>text</th>\n",
       "      <th>text_</th>\n",
       "    </tr>\n",
       "  </thead>\n",
       "  <tbody>\n",
       "    <tr>\n",
       "      <th>0</th>\n",
       "      <td>xxbos a bench is in an xxunk of manicured bushes . xxbos xxmaj the bathroom sink counter has drawers beneath it and a mirror above . xxbos a parked gray and black motorcycle and a backpack xxbos an old photo of a castle at the end of the street xxbos a person that is cooking some food in a kitchen . xxbos a young girl taking a swing at a tennis ball</td>\n",
       "      <td>a bench is in an xxunk of manicured bushes . xxbos xxmaj the bathroom sink counter has drawers beneath it and a mirror above . xxbos a parked gray and black motorcycle and a backpack xxbos an old photo of a castle at the end of the street xxbos a person that is cooking some food in a kitchen . xxbos a young girl taking a swing at a tennis ball xxbos</td>\n",
       "    </tr>\n",
       "    <tr>\n",
       "      <th>1</th>\n",
       "      <td>xxup are xxup standing xxup beside a xxup car xxbos a desk with a monitor , laptop , mouse and books on it . xxbos a man that is leaning against a cart . xxbos xxmaj three xxmaj giraffes are standing in a row and they are all different sizes . xxbos xxmaj there are several cows behind a fence , they are looking at the camera . xxbos a man wearing</td>\n",
       "      <td>are xxup standing xxup beside a xxup car xxbos a desk with a monitor , laptop , mouse and books on it . xxbos a man that is leaning against a cart . xxbos xxmaj three xxmaj giraffes are standing in a row and they are all different sizes . xxbos xxmaj there are several cows behind a fence , they are looking at the camera . xxbos a man wearing a</td>\n",
       "    </tr>\n",
       "  </tbody>\n",
       "</table>"
      ],
      "text/plain": [
       "<IPython.core.display.HTML object>"
      ]
     },
     "metadata": {},
     "output_type": "display_data"
    }
   ],
   "source": [
    "# skip\n",
    "lm_dsets = get_small_lm_dsets()\n",
    "lm_dls = lm_dsets.dataloaders(bs=16, seq_len=72)\n",
    "lm_dls.show_batch(max_n=2)"
   ]
  },
  {
   "cell_type": "markdown",
   "metadata": {},
   "source": [
    "## export -"
   ]
  },
  {
   "cell_type": "code",
   "execution_count": null,
   "metadata": {},
   "outputs": [
    {
     "name": "stdout",
     "output_type": "stream",
     "text": [
      "Converted 02_data.coco.ipynb.\n",
      "Converted 90a_gen_tiny_data.ipynb.\n",
      "Converted 90b_fulltest_train_lm.ipynb.\n",
      "Converted index.ipynb.\n"
     ]
    }
   ],
   "source": [
    "# hide\n",
    "from nbdev.export import notebook2script\n",
    "notebook2script()"
   ]
  },
  {
   "cell_type": "code",
   "execution_count": null,
   "metadata": {},
   "outputs": [],
   "source": []
  }
 ],
 "metadata": {
  "kernelspec": {
   "display_name": "Python 3",
   "language": "python",
   "name": "python3"
  }
 },
 "nbformat": 4,
 "nbformat_minor": 4
}
