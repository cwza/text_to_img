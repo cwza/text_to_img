{
 "cells": [
  {
   "cell_type": "code",
   "execution_count": null,
   "metadata": {},
   "outputs": [],
   "source": [
    "import json\n",
    "\n",
    "from fastai2.basics import *\n",
    "from fastai2.text.all import *\n",
    "\n",
    "from text_to_img.data.coco import *"
   ]
  },
  {
   "cell_type": "code",
   "execution_count": null,
   "metadata": {},
   "outputs": [],
   "source": [
    "# all_slow"
   ]
  },
  {
   "cell_type": "markdown",
   "metadata": {},
   "source": [
    "# Fulltest of Train LM\n",
    "\n",
    ">"
   ]
  },
  {
   "cell_type": "markdown",
   "metadata": {},
   "source": [
    "## Datasets and DataLoaders"
   ]
  },
  {
   "cell_type": "code",
   "execution_count": null,
   "metadata": {},
   "outputs": [
    {
     "data": {
      "text/html": [],
      "text/plain": [
       "<IPython.core.display.HTML object>"
      ]
     },
     "metadata": {},
     "output_type": "display_data"
    }
   ],
   "source": [
    "dsets = get_tiny_lm_dsets()\n",
    "dls = dsets.dataloaders(bs=16, seq_len=72)"
   ]
  },
  {
   "cell_type": "code",
   "execution_count": null,
   "metadata": {},
   "outputs": [
    {
     "data": {
      "text/html": [
       "<table border=\"1\" class=\"dataframe\">\n",
       "  <thead>\n",
       "    <tr style=\"text-align: right;\">\n",
       "      <th></th>\n",
       "      <th>text</th>\n",
       "      <th>text_</th>\n",
       "    </tr>\n",
       "  </thead>\n",
       "  <tbody>\n",
       "    <tr>\n",
       "      <th>0</th>\n",
       "      <td>xxbos a little boy with xxunk on xxunk to xxunk . xxbos a kitchen area with toilet and xxunk xxunk appliances . xxbos xxmaj an xxunk xxunk xxunk cat laying on top of a red vehicle 's wheel . xxbos a large boat filled with xxunk on wheels . xxbos a kitchen with wooden cabinets and black appliances . xxbos xxmaj the dining table near the kitchen has a bowl of xxunk</td>\n",
       "      <td>a little boy with xxunk on xxunk to xxunk . xxbos a kitchen area with toilet and xxunk xxunk appliances . xxbos xxmaj an xxunk xxunk xxunk cat laying on top of a red vehicle 's wheel . xxbos a large boat filled with xxunk on wheels . xxbos a kitchen with wooden cabinets and black appliances . xxbos xxmaj the dining table near the kitchen has a bowl of xxunk on</td>\n",
       "    </tr>\n",
       "    <tr>\n",
       "      <th>1</th>\n",
       "      <td>xxbos a small kitchen has xxunk appliances and a table . xxbos a xxunk with a plant on it under a picture on the wall . xxbos a bike sits parked next to a street xxbos a young man wearing black xxunk and a xxunk tie is standing and smiling . xxbos xxmaj the bicycle is locked on the green , metal wall . xxbos a small bathroom with a sink and</td>\n",
       "      <td>a small kitchen has xxunk appliances and a table . xxbos a xxunk with a plant on it under a picture on the wall . xxbos a bike sits parked next to a street xxbos a young man wearing black xxunk and a xxunk tie is standing and smiling . xxbos xxmaj the bicycle is locked on the green , metal wall . xxbos a small bathroom with a sink and a</td>\n",
       "    </tr>\n",
       "  </tbody>\n",
       "</table>"
      ],
      "text/plain": [
       "<IPython.core.display.HTML object>"
      ]
     },
     "metadata": {},
     "output_type": "display_data"
    }
   ],
   "source": [
    "dls.show_batch(max_n=2)"
   ]
  },
  {
   "cell_type": "markdown",
   "metadata": {},
   "source": [
    "## Learner"
   ]
  },
  {
   "cell_type": "code",
   "execution_count": null,
   "metadata": {},
   "outputs": [
    {
     "name": "stdout",
     "output_type": "stream",
     "text": [
      "NameError: name 'dls' is not defined\n",
      "NameError: name 'learn' is not defined\n"
     ]
    }
   ],
   "source": [
    "%xdel dls\n",
    "%xdel learn\n",
    "dls = dsets.dataloaders(bs=16, seq_len=72)\n",
    "learn = language_model_learner(dls, AWD_LSTM, metrics=[accuracy, Perplexity()], wd=0.1).to_fp16()"
   ]
  },
  {
   "cell_type": "code",
   "execution_count": null,
   "metadata": {},
   "outputs": [
    {
     "data": {
      "text/html": [
       "<table border=\"1\" class=\"dataframe\">\n",
       "  <thead>\n",
       "    <tr style=\"text-align: left;\">\n",
       "      <th>epoch</th>\n",
       "      <th>train_loss</th>\n",
       "      <th>valid_loss</th>\n",
       "      <th>accuracy</th>\n",
       "      <th>perplexity</th>\n",
       "      <th>time</th>\n",
       "    </tr>\n",
       "  </thead>\n",
       "  <tbody>\n",
       "    <tr>\n",
       "      <td>0</td>\n",
       "      <td>4.929857</td>\n",
       "      <td>4.645161</td>\n",
       "      <td>0.200583</td>\n",
       "      <td>104.080086</td>\n",
       "      <td>00:01</td>\n",
       "    </tr>\n",
       "  </tbody>\n",
       "</table>"
      ],
      "text/plain": [
       "<IPython.core.display.HTML object>"
      ]
     },
     "metadata": {},
     "output_type": "display_data"
    }
   ],
   "source": [
    "learn.unfreeze()\n",
    "learn.fit_one_cycle(1, 5e-2)"
   ]
  },
  {
   "cell_type": "code",
   "execution_count": null,
   "metadata": {},
   "outputs": [],
   "source": []
  }
 ],
 "metadata": {
  "kernelspec": {
   "display_name": "Python 3",
   "language": "python",
   "name": "python3"
  }
 },
 "nbformat": 4,
 "nbformat_minor": 4
}
