{
 "cells": [
  {
   "cell_type": "code",
   "execution_count": null,
   "metadata": {},
   "outputs": [],
   "source": [
    "import json\n",
    "\n",
    "from fastai2.basics import *\n",
    "from fastai2.text.all import *\n",
    "\n",
    "from text_to_img.data.coco import *"
   ]
  },
  {
   "cell_type": "code",
   "execution_count": null,
   "metadata": {},
   "outputs": [],
   "source": [
    "# all_skip"
   ]
  },
  {
   "cell_type": "markdown",
   "metadata": {},
   "source": [
    "# Train LM\n",
    ">"
   ]
  },
  {
   "cell_type": "markdown",
   "metadata": {},
   "source": [
    "## Datasets and DataLoaders"
   ]
  },
  {
   "cell_type": "code",
   "execution_count": null,
   "metadata": {},
   "outputs": [
    {
     "name": "stdout",
     "output_type": "stream",
     "text": [
      "loading annotations into memory...\n",
      "Done (t=0.33s)\n",
      "creating index...\n",
      "index created!\n"
     ]
    },
    {
     "data": {
      "text/html": [],
      "text/plain": [
       "<IPython.core.display.HTML object>"
      ]
     },
     "metadata": {},
     "output_type": "display_data"
    }
   ],
   "source": [
    "dsets = get_small_lm_dsets(0.01)\n",
    "dls = dsets.dataloaders(bs=16, seq_len=72)"
   ]
  },
  {
   "cell_type": "code",
   "execution_count": null,
   "metadata": {},
   "outputs": [
    {
     "data": {
      "text/html": [
       "<table border=\"1\" class=\"dataframe\">\n",
       "  <thead>\n",
       "    <tr style=\"text-align: right;\">\n",
       "      <th></th>\n",
       "      <th>text</th>\n",
       "      <th>text_</th>\n",
       "    </tr>\n",
       "  </thead>\n",
       "  <tbody>\n",
       "    <tr>\n",
       "      <th>0</th>\n",
       "      <td>xxbos a small propeller plane xxunk in a field . xxbos a car in front of a furniture shop with a cow . xxbos a large xxunk xxup tv sits in the corner of a family room . xxbos xxmaj an elephant crossing the road in front of a car . xxbos a xxunk motion picture of a person doing a wheelie on a motorcycle . xxbos xxmaj four giraffes in the</td>\n",
       "      <td>a small propeller plane xxunk in a field . xxbos a car in front of a furniture shop with a cow . xxbos a large xxunk xxup tv sits in the corner of a family room . xxbos xxmaj an elephant crossing the road in front of a car . xxbos a xxunk motion picture of a person doing a wheelie on a motorcycle . xxbos xxmaj four giraffes in the wild</td>\n",
       "    </tr>\n",
       "    <tr>\n",
       "      <th>1</th>\n",
       "      <td>full of oranges and apples . xxbos a man rides a motorcycle down an empty street next to xxunk . xxbos a car is parked on xxunk grass with kites overhead . xxbos xxmaj people standing on a xxunk next to a vintage motorcycle . xxbos xxmaj an older woman in a xxunk dress takes a xxunk photo in the mirror . xxbos xxmaj six people in a boat xxunk on a</td>\n",
       "      <td>of oranges and apples . xxbos a man rides a motorcycle down an empty street next to xxunk . xxbos a car is parked on xxunk grass with kites overhead . xxbos xxmaj people standing on a xxunk next to a vintage motorcycle . xxbos xxmaj an older woman in a xxunk dress takes a xxunk photo in the mirror . xxbos xxmaj six people in a boat xxunk on a body</td>\n",
       "    </tr>\n",
       "  </tbody>\n",
       "</table>"
      ],
      "text/plain": [
       "<IPython.core.display.HTML object>"
      ]
     },
     "metadata": {},
     "output_type": "display_data"
    }
   ],
   "source": [
    "dls.show_batch(max_n=2)"
   ]
  },
  {
   "cell_type": "markdown",
   "metadata": {},
   "source": [
    "## Learner"
   ]
  },
  {
   "cell_type": "code",
   "execution_count": null,
   "metadata": {},
   "outputs": [
    {
     "name": "stdout",
     "output_type": "stream",
     "text": [
      "loading annotations into memory...\n",
      "Done (t=0.31s)\n",
      "creating index...\n",
      "index created!\n"
     ]
    },
    {
     "data": {
      "text/html": [],
      "text/plain": [
       "<IPython.core.display.HTML object>"
      ]
     },
     "metadata": {},
     "output_type": "display_data"
    }
   ],
   "source": [
    "dsets = get_small_lm_dsets()"
   ]
  },
  {
   "cell_type": "code",
   "execution_count": null,
   "metadata": {},
   "outputs": [],
   "source": [
    "%xdel dls\n",
    "%xdel learn\n",
    "dls = dsets.dataloaders(bs=64, seq_len=72)\n",
    "learn = language_model_learner(dls, AWD_LSTM, metrics=[accuracy, Perplexity()], wd=0.1).to_fp16()"
   ]
  },
  {
   "cell_type": "code",
   "execution_count": null,
   "metadata": {},
   "outputs": [
    {
     "data": {
      "text/html": [],
      "text/plain": [
       "<IPython.core.display.HTML object>"
      ]
     },
     "metadata": {},
     "output_type": "display_data"
    },
    {
     "data": {
      "text/plain": [
       "(0.09120108485221863, 0.05754399299621582)"
      ]
     },
     "execution_count": null,
     "metadata": {},
     "output_type": "execute_result"
    },
    {
     "data": {
      "image/png": "[encoded data removed]",
      "text/plain": [
       "<Figure size 432x288 with 1 Axes>"
      ]
     },
     "metadata": {},
     "output_type": "display_data"
    }
   ],
   "source": [
    "learn.lr_find()"
   ]
  },
  {
   "cell_type": "code",
   "execution_count": null,
   "metadata": {},
   "outputs": [
    {
     "data": {
      "text/html": [
       "<table border=\"1\" class=\"dataframe\">\n",
       "  <thead>\n",
       "    <tr style=\"text-align: left;\">\n",
       "      <th>epoch</th>\n",
       "      <th>train_loss</th>\n",
       "      <th>valid_loss</th>\n",
       "      <th>accuracy</th>\n",
       "      <th>perplexity</th>\n",
       "      <th>time</th>\n",
       "    </tr>\n",
       "  </thead>\n",
       "  <tbody>\n",
       "    <tr>\n",
       "      <td>0</td>\n",
       "      <td>3.164861</td>\n",
       "      <td>2.830277</td>\n",
       "      <td>0.428796</td>\n",
       "      <td>16.950155</td>\n",
       "      <td>03:13</td>\n",
       "    </tr>\n",
       "  </tbody>\n",
       "</table>"
      ],
      "text/plain": [
       "<IPython.core.display.HTML object>"
      ]
     },
     "metadata": {},
     "output_type": "display_data"
    }
   ],
   "source": [
    "learn.freeze()\n",
    "learn.fit_one_cycle(1, 5e-2)"
   ]
  },
  {
   "cell_type": "code",
   "execution_count": null,
   "metadata": {},
   "outputs": [
    {
     "data": {
      "text/html": [
       "<table border=\"1\" class=\"dataframe\">\n",
       "  <thead>\n",
       "    <tr style=\"text-align: left;\">\n",
       "      <th>epoch</th>\n",
       "      <th>train_loss</th>\n",
       "      <th>valid_loss</th>\n",
       "      <th>accuracy</th>\n",
       "      <th>perplexity</th>\n",
       "      <th>time</th>\n",
       "    </tr>\n",
       "  </thead>\n",
       "  <tbody>\n",
       "    <tr>\n",
       "      <td>0</td>\n",
       "      <td>2.859632</td>\n",
       "      <td>2.692055</td>\n",
       "      <td>0.447054</td>\n",
       "      <td>14.761980</td>\n",
       "      <td>03:34</td>\n",
       "    </tr>\n",
       "    <tr>\n",
       "      <td>1</td>\n",
       "      <td>2.730793</td>\n",
       "      <td>2.615108</td>\n",
       "      <td>0.455710</td>\n",
       "      <td>13.668696</td>\n",
       "      <td>03:31</td>\n",
       "    </tr>\n",
       "    <tr>\n",
       "      <td>2</td>\n",
       "      <td>2.621685</td>\n",
       "      <td>2.537733</td>\n",
       "      <td>0.468089</td>\n",
       "      <td>12.650963</td>\n",
       "      <td>03:33</td>\n",
       "    </tr>\n",
       "    <tr>\n",
       "      <td>3</td>\n",
       "      <td>2.521435</td>\n",
       "      <td>2.520133</td>\n",
       "      <td>0.471896</td>\n",
       "      <td>12.430256</td>\n",
       "      <td>03:34</td>\n",
       "    </tr>\n",
       "  </tbody>\n",
       "</table>"
      ],
      "text/plain": [
       "<IPython.core.display.HTML object>"
      ]
     },
     "metadata": {},
     "output_type": "display_data"
    }
   ],
   "source": [
    "learn.unfreeze()\n",
    "learn.fit_one_cycle(4, 5e-3)"
   ]
  },
  {
   "cell_type": "code",
   "execution_count": null,
   "metadata": {},
   "outputs": [
    {
     "data": {
      "text/html": [],
      "text/plain": [
       "<IPython.core.display.HTML object>"
      ]
     },
     "metadata": {},
     "output_type": "display_data"
    },
    {
     "data": {
      "text/html": [
       "<table border=\"1\" class=\"dataframe\">\n",
       "  <thead>\n",
       "    <tr style=\"text-align: right;\">\n",
       "      <th></th>\n",
       "      <th>input</th>\n",
       "      <th>target</th>\n",
       "      <th>pred</th>\n",
       "    </tr>\n",
       "  </thead>\n",
       "  <tbody>\n",
       "    <tr>\n",
       "      <th>0</th>\n",
       "      <td>xxbos a group of people sit at a table laden with food . xxbos a dog xxunk to catch a frisbee while diving into a pool xxbos xxmaj cars try to maneuver into parking spaces along a xxunk packed city street . xxbos a man riding a wave on top of a surfboard . xxbos a long xxunk of train cars is parked in a railway station . xxbos xxmaj meal of</td>\n",
       "      <td>a group of people sit at a table laden with food . xxbos a dog xxunk to catch a frisbee while diving into a pool xxbos xxmaj cars try to maneuver into parking spaces along a xxunk packed city street . xxbos a man riding a wave on top of a surfboard . xxbos a long xxunk of train cars is parked in a railway station . xxbos xxmaj meal of meat</td>\n",
       "      <td>a man of people standing on a table with with food . xxbos a man is on catch a frisbee in standing for the frisbee . a two are to stop a the lot in a street . road street . xxbos a man is a skateboard on top of a surfboard . xxbos a man train of people tracks on on on a train yard . xxbos a two of meat</td>\n",
       "    </tr>\n",
       "    <tr>\n",
       "      <th>1</th>\n",
       "      <td>woman is smiling as she surfs through a xxunk wave . xxbos xxmaj two urinals in a green and white tiled bathroom . xxbos a smart device sitting on top of a pillow . xxbos xxmaj man shopping at a grocery store at the produce section . xxbos xxmaj an elephant stands alone in the grass and sunlight . xxbos a man in a gray shirt holds his phone as he sits</td>\n",
       "      <td>is smiling as she surfs through a xxunk wave . xxbos xxmaj two urinals in a green and white tiled bathroom . xxbos a smart device sitting on top of a pillow . xxbos xxmaj man shopping at a grocery store at the produce section . xxbos xxmaj an elephant stands alone in the grass and sunlight . xxbos a man in a gray shirt holds his phone as he sits by</td>\n",
       "      <td>in holding . she holds on the wave wave . xxbos a two people in a bathroom tiled white bathroom bathroom . xxbos a man phone sitting on top of a table . xxbos a two in at a market store with a market stand of xxbos a two old is in in a grass near looks . xxbos a man is a suit shirt and a tennis up he stands on</td>\n",
       "    </tr>\n",
       "    <tr>\n",
       "      <th>2</th>\n",
       "      <td>a xxup beach xxup with xxup tents xxup and xxup flying xxup object xxbos xxmaj the guy and girls are playing a video game . xxbos xxmaj there is a plate with french fries and a sandwich . xxbos a bunch of airplanes lined up in a row at an airport . xxbos a delicious sandwich with meat , cheese , and fresh vegetables . xxbos a woman hugs a gray cat</td>\n",
       "      <td>xxup beach xxup with xxup tents xxup and xxup flying xxup object xxbos xxmaj the guy and girls are playing a video game . xxbos xxmaj there is a plate with french fries and a sandwich . xxbos a bunch of airplanes lined up in a row at an airport . xxbos a delicious sandwich with meat , cheese , and fresh vegetables . xxbos a woman hugs a gray cat to</td>\n",
       "      <td>man tv xxup with xxup people xxup and xxup people xxup kites xxbos a two man is the are playing a video game . xxbos a two is a man of a fries and a sandwich on xxbos a man of people that up at a row xxbos an airport . xxbos a man looking with a and lettuce and and cheese vegetables . xxbos a man is a teddy teddy while</td>\n",
       "    </tr>\n",
       "    <tr>\n",
       "      <th>3</th>\n",
       "      <td>a field of grass . xxbos a man and a woman are cutting up cake xxbos a street containing various cars and lampposts at night . xxbos xxmaj many tourists riding on elephants in a river xxbos a vase of white roses in front of a bookcase . xxbos trucks driving on a highway near a car xxbos xxmaj umpire makes a signal during a baseball game . xxbos xxmaj there is</td>\n",
       "      <td>field of grass . xxbos a man and a woman are cutting up cake xxbos a street containing various cars and lampposts at night . xxbos xxmaj many tourists riding on elephants in a river xxbos a vase of white roses in front of a bookcase . xxbos trucks driving on a highway near a car xxbos xxmaj umpire makes a signal during a baseball game . xxbos xxmaj there is a</td>\n",
       "      <td>man with grass . xxbos a man is a woman are sitting a a . a man sign a cars and a . night . xxbos a two people are horses the in a river . a man with flowers flowers sitting a of a window . xxbos a parked down a city with a building xxbos a two and a turn as a baseball game . xxbos a two is a</td>\n",
       "    </tr>\n",
       "    <tr>\n",
       "      <th>4</th>\n",
       "      <td>a bench near a xxmaj buddha statue . xxbos xxmaj zebras graze on the plains with trees in the background . xxbos a young person in a motorcycle outfit sitting on a bike preparing to ride . xxbos open laptop screen with a cat 's head peeking over it xxbos a lamb has made its way to the food trough alongside a grassy hill . xxbos a group of people riding down</td>\n",
       "      <td>bench near a xxmaj buddha statue . xxbos xxmaj zebras graze on the plains with trees in the background . xxbos a young person in a motorcycle outfit sitting on a bike preparing to ride . xxbos open laptop screen with a cat 's head peeking over it xxbos a lamb has made its way to the food trough alongside a grassy hill . xxbos a group of people riding down a</td>\n",
       "      <td>man in a body christmas statue . xxbos a two and in grass grass in a in the background . xxbos a man man is a blue is is on a motorcycle . to go a xxbos a refrigerator computer with a keyboard sitting head on out it xxbos a man is its its head through the water truck . the fence area . xxbos a man of people standing skis the</td>\n",
       "    </tr>\n",
       "    <tr>\n",
       "      <th>5</th>\n",
       "      <td>. xxbos xxmaj flowers in a vase in a dimly lit room . xxbos a man handing out pizza in the middle of an inner city on a snowy winter day . xxbos xxmaj two men work on a surfboard as it sits on a table . xxbos a man holds up a ski and a pole . xxbos a bedroom with a bed sitting next to a window . xxbos a</td>\n",
       "      <td>xxbos xxmaj flowers in a vase in a dimly lit room . xxbos a man handing out pizza in the middle of an inner city on a snowy winter day . xxbos xxmaj two men work on a surfboard as it sits on a table . xxbos a man holds up a ski and a pole . xxbos a bedroom with a bed sitting next to a window . xxbos a bunch</td>\n",
       "      <td>xxbos a two in a vase on a window lit room . xxbos a man is a a on a oven of a outdoor city street a sunny day day . xxbos a two people are on a laptop in they rides on a wave . xxbos a man is a a large lift skis snowboard . xxbos a man with a bed , next to a window . xxbos a man</td>\n",
       "    </tr>\n",
       "    <tr>\n",
       "      <th>6</th>\n",
       "      <td>of about the same size . xxbos a boy standing on top of a skateboard with people standing around him . xxbos a woman that is sitting on the back of a horse . xxbos a view of a cow in a car 's mirror . xxbos xxmaj patches of cloth , cotton , and scissors sitting on a table . xxbos xxmaj two xxunk and a cup of coffee are placed</td>\n",
       "      <td>about the same size . xxbos a boy standing on top of a skateboard with people standing around him . xxbos a woman that is sitting on the back of a horse . xxbos a view of a cow in a car 's mirror . xxbos xxmaj patches of cloth , cotton , and scissors sitting on a table . xxbos xxmaj two xxunk and a cup of coffee are placed on</td>\n",
       "      <td>a food xxunk time . xxbos a man is in a of a tennis . a watching around . . xxbos a man is is standing on a ground of a horse . xxbos a man of a kitchen standing a field with rear . xxbos a two of green are a , scissors scissors are on a table . xxbos a two people are a dog of coffee on on on</td>\n",
       "    </tr>\n",
       "    <tr>\n",
       "      <th>7</th>\n",
       "      <td>dog lays next to laptop that the woman is staring at . xxbos a group of young kids holding tennis racquets . xxbos a military airplane jet flies through the air . xxbos a clean bathroom that is white and brown . xxbos a double picture with one featuring a dog and the other a cat . xxbos a tree located in front of a building with signs on it . xxbos</td>\n",
       "      <td>lays next to laptop that the woman is staring at . xxbos a group of young kids holding tennis racquets . xxbos a military airplane jet flies through the air . xxbos a clean bathroom that is white and brown . xxbos a double picture with one featuring a dog and the other a cat . xxbos a tree located in front of a building with signs on it . xxbos a</td>\n",
       "      <td>and on to a computer is person is holding at . xxbos a man of people men playing tennis rackets . xxbos a man jet flying flying through the sky . xxbos a man bathroom with has in and has . xxbos a man decker of a of a man and a other with dog . xxbos a man with in the of a building with a on it . xxbos a</td>\n",
       "    </tr>\n",
       "    <tr>\n",
       "      <th>8</th>\n",
       "      <td>xxbos a bear is walking around on some grass . xxbos a man brushing his daughters hair with a brush . xxbos a young man bending next to a toilet . xxbos a person taking a pizza out of an oven . xxbos xxmaj people are walking around with umbrellas in the rain xxbos a group of people sitting at some tables . xxbos a sunset view of a marina with boats</td>\n",
       "      <td>a bear is walking around on some grass . xxbos a man brushing his daughters hair with a brush . xxbos a young man bending next to a toilet . xxbos a person taking a pizza out of an oven . xxbos xxmaj people are walking around with umbrellas in the rain xxbos a group of people sitting at some tables . xxbos a sunset view of a marina with boats docked</td>\n",
       "      <td>a man is walking through in a rocks xxbos xxbos a man is his teeth teeth in a toothbrush . xxbos a man man is over to a woman in xxbos a man on a picture out of a oven . xxbos a two are standing down a umbrellas on the rain . a man of people standing around a tables with xxbos a man scene of a city with boats in</td>\n",
       "    </tr>\n",
       "  </tbody>\n",
       "</table>"
      ],
      "text/plain": [
       "<IPython.core.display.HTML object>"
      ]
     },
     "metadata": {},
     "output_type": "display_data"
    }
   ],
   "source": [
    "learn.show_results()"
   ]
  },
  {
   "cell_type": "markdown",
   "metadata": {},
   "source": [
    "## Save"
   ]
  },
  {
   "cell_type": "code",
   "execution_count": null,
   "metadata": {},
   "outputs": [],
   "source": [
    "torch.save(learn.model[0].state_dict, './coco_small/lm-1.pt')"
   ]
  },
  {
   "cell_type": "code",
   "execution_count": null,
   "metadata": {},
   "outputs": [
    {
     "data": {
      "text/plain": [
       "88801"
      ]
     },
     "execution_count": null,
     "metadata": {},
     "output_type": "execute_result"
    }
   ],
   "source": [
    "Path('./coco_small/vocab.json').write_text(json.dumps(dsets.vocab))"
   ]
  }
 ],
 "metadata": {
  "kernelspec": {
   "display_name": "Python 3",
   "language": "python",
   "name": "python3"
  }
 },
 "nbformat": 4,
 "nbformat_minor": 4
}
